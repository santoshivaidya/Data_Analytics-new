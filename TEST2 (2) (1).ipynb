{
 "cells": [
  {
   "cell_type": "markdown",
   "id": "1873775b-ebc3-40d4-8463-c89e982ccb35",
   "metadata": {},
   "source": [
    "# Test 2 - Functions - User Defined "
   ]
  },
  {
   "cell_type": "markdown",
   "id": "1fe1faee-fb1a-41e9-ad4c-7b08f09bd5df",
   "metadata": {},
   "source": [
    "## 1. Write a python function to caluclate the sum of cubes upto n. Take n from the user. "
   ]
  },
  {
   "cell_type": "code",
   "execution_count": 4,
   "id": "eb91bedb-5b6e-4c7c-a0b6-22767edc8ba2",
   "metadata": {},
   "outputs": [
    {
     "data": {
      "text/plain": [
       "225"
      ]
     },
     "execution_count": 4,
     "metadata": {},
     "output_type": "execute_result"
    }
   ],
   "source": [
    "def sum_of_cube(n):\n",
    "    return (n*(n+1)//2)**2\n",
    "sum_of_cube(5)    "
   ]
  },
  {
   "cell_type": "markdown",
   "id": "8edd4492-55f0-4857-9919-4c5b015cd492",
   "metadata": {},
   "source": [
    "## 2. Write a python function to check if two temperatures are in Opposite Seasons.  i.e One temperature is less than 20°C and the other is more than 30°C."
   ]
  },
  {
   "cell_type": "code",
   "execution_count": 9,
   "id": "d2dda1a9-9647-45e4-a6e0-20395d9173e6",
   "metadata": {},
   "outputs": [
    {
     "data": {
      "text/plain": [
       "True"
      ]
     },
     "execution_count": 9,
     "metadata": {},
     "output_type": "execute_result"
    }
   ],
   "source": [
    "def temp(temp1,temp2):\n",
    "  return (temp1<20 and temp2>30) or (temp1 >30 and tem2<20)\n",
    "temp(15,35)                               \n",
    "        \n",
    "       "
   ]
  },
  {
   "cell_type": "markdown",
   "id": "1f602032-74af-475f-ab96-04cc28e04a68",
   "metadata": {},
   "source": [
    " 3. Write a python function to check whether a three-digit number has exactly two digits equal (e.g., 121, 133).\n",
    "\n"
   ]
  },
  {
   "cell_type": "code",
   "execution_count": 71,
   "id": "14a74c41-b7cf-45f1-bb94-a1e874df604f",
   "metadata": {},
   "outputs": [
    {
     "name": "stdin",
     "output_type": "stream",
     "text": [
      "enter no 112\n"
     ]
    },
    {
     "data": {
      "text/plain": [
       "'not equal'"
      ]
     },
     "execution_count": 71,
     "metadata": {},
     "output_type": "execute_result"
    }
   ],
   "source": [
    "def digit_two():\n",
    "        "
   ]
  },
  {
   "cell_type": "markdown",
   "id": "db7113e3-5005-4369-b988-239c679b5f25",
   "metadata": {},
   "source": [
    "4. Write a python function to check whether the tens place digit of two three-digit numbers is the same.\n",
    "\n"
   ]
  },
  {
   "cell_type": "code",
   "execution_count": 55,
   "id": "516a633a-f358-4e1d-a71c-0278004fdb1d",
   "metadata": {},
   "outputs": [
    {
     "data": {
      "text/plain": [
       "True"
      ]
     },
     "execution_count": 55,
     "metadata": {},
     "output_type": "execute_result"
    }
   ],
   "source": [
    "def tens_place_digit(num1,num2):\n",
    "    tens1=(num1//10)%10\n",
    "    tens2=(num2//10)%10\n",
    "    return tens1==tens2\n",
    "tens_place_digit(132,133)    "
   ]
  },
  {
   "cell_type": "markdown",
   "id": "7f49c126-f863-46e0-b49c-009bdf380b3b",
   "metadata": {},
   "source": [
    "## 5. Write a python function to compare two fractions. \n",
    "Given integers a, b, c, d (denominators non-zero), print which fraction is larger: a/b or c/d, or if they are equal (compare by cross-multiplying)."
   ]
  },
  {
   "cell_type": "code",
   "execution_count": 40,
   "id": "463578b3-7555-457a-a724-03c7adab2a26",
   "metadata": {},
   "outputs": [
    {
     "data": {
      "text/plain": [
       "'are eqaul'"
      ]
     },
     "execution_count": 40,
     "metadata": {},
     "output_type": "execute_result"
    }
   ],
   "source": [
    "def compare_fraction(a,b,c,d):\n",
    "    f=a*d\n",
    "    g=b*c\n",
    "    if f>g:\n",
    "        return \"a/b is large\"\n",
    "    elif f<g:\n",
    "        return \"c/d is large\"\n",
    "    else:\n",
    "        return \"are eqaul\"\n",
    "compare_fraction(1,1,1,1)      \n",
    "    \n"
   ]
  },
  {
   "cell_type": "markdown",
   "id": "fda4c171-b12f-4ab3-947a-733bab499243",
   "metadata": {},
   "source": [
    "## 6. Write a python function for target matching. Given numbers a, b, t, print whether t equals a, or b, or a+b, or a-b, or b-a. If none, print “No Match”.\n",
    "\n"
   ]
  },
  {
   "cell_type": "code",
   "execution_count": 11,
   "id": "f2ac0201-f802-4806-83d6-ebadc33b6371",
   "metadata": {},
   "outputs": [
    {
     "data": {
      "text/plain": [
       "'not'"
      ]
     },
     "execution_count": 11,
     "metadata": {},
     "output_type": "execute_result"
    }
   ],
   "source": [
    "def target_matching(a,b,t):\n",
    "    m=a,b,a+b,a-b,b-a\n",
    "    if t in m:\n",
    "        return \"t eqal a,b,a+b,a-b,b-a\"\n",
    "    else:\n",
    "        return \"not\"\n",
    "target_matching(6,7,8)        "
   ]
  },
  {
   "cell_type": "markdown",
   "id": "bd3d681f-ee64-4ad1-a9c6-50dfbca54107",
   "metadata": {},
   "source": [
    "## 7. Write a python function for Rectangle Fit (No Rotation). Given two rectangles (L1, W1) and (L2, W2), print whether the first fits inside the second without rotation (i.e., L1 ≤ L2 and W1 ≤ W2).\n",
    "\n"
   ]
  },
  {
   "cell_type": "code",
   "execution_count": 13,
   "id": "aa82cb92-0615-4696-8af3-a05b5cf93c85",
   "metadata": {},
   "outputs": [
    {
     "data": {
      "text/plain": [
       "'first fits inside the second'"
      ]
     },
     "execution_count": 13,
     "metadata": {},
     "output_type": "execute_result"
    }
   ],
   "source": [
    "def rect_fit(l1,w1,l2,w2):\n",
    "    if l1<=l2 and w1<=w2:\n",
    "       return \"first fits inside the second\"\n",
    "    else:\n",
    "        return \"no\"\n",
    "rect_fit(2,3,4,5)        \n"
   ]
  },
  {
   "cell_type": "markdown",
   "id": "c535b963-3a73-4e0b-bebc-cd7e9a6cacd8",
   "metadata": {},
   "source": [
    "## 8. Write a python function for point vs circle.Given center (h, k), radius r, and point (x, y), compare (x−h)^2 + (y−k)^2 with r^2 to print “Inside”, “On”, or “Outside”.\n",
    "\n"
   ]
  },
  {
   "cell_type": "code",
   "execution_count": 14,
   "id": "2a13032d-7c55-4ecd-93ea-5f499e86e9ab",
   "metadata": {},
   "outputs": [
    {
     "data": {
      "text/plain": [
       "'inside'"
      ]
     },
     "execution_count": 14,
     "metadata": {},
     "output_type": "execute_result"
    }
   ],
   "source": [
    "def point_circle(h,k,r,x,y):\n",
    "    distance=(x-h)**2+(y-k)**2\n",
    "    if distance<r**2:\n",
    "        return \"inside\"\n",
    "    elif distance ==r**2:\n",
    "        return \"on\"\n",
    "    else:\n",
    "        return \"outside\"\n",
    "point_circle(0,0,2,1,1)      "
   ]
  },
  {
   "cell_type": "markdown",
   "id": "09072fe4-2002-456c-9c7f-9973c937db5d",
   "metadata": {},
   "source": [
    "9. Write a python function for Digit Anagram (3-Digit vs 3-Digit).Given two three-digit integers, print whether they contain exactly the same digits (in any order). (Solve by extracting hundreds/tens/ones and comparing with conditional logic—no loops/collections.)\n",
    "\n"
   ]
  },
  {
   "cell_type": "code",
   "execution_count": null,
   "id": "707f7c25-b893-4ad4-87cd-956d061e2d02",
   "metadata": {},
   "outputs": [],
   "source": []
  },
  {
   "cell_type": "markdown",
   "id": "e22fd801-ac0f-41d6-a05c-123ba870852a",
   "metadata": {},
   "source": [
    "## 10. Write a python function to calculate Z-score.Calculate population mean μ, standard deviation σ (σ > 0), and value x, compute z = (x−μ)/σ and print the band: Within 1σ, Within 2σ, Within 3σ, or Beyond 3σ . Take a list of 10 numbers. "
   ]
  },
  {
   "cell_type": "code",
   "execution_count": null,
   "id": "2e0835f6-c5b9-4812-a307-aabca2cace17",
   "metadata": {},
   "outputs": [],
   "source": []
  },
  {
   "cell_type": "markdown",
   "id": "cddc10ff-b856-45b3-82da-f9d823ffd66e",
   "metadata": {},
   "source": [
    "## 11. Write a Python function that takes two risk values rA and rB (both floats in the range [0, 1]) and computes the Risk Ratio (RR) as RR = rA / rB. The function should then return a string based on the following conditions:\n",
    "\n",
    "- Return \"Increased Risk\" if RR > 1,\n",
    "\n",
    "- Return \"Decreased Risk\" if RR < 1,\n",
    "\n",
    "- Return \"No Change\" if RR == 1."
   ]
  },
  {
   "cell_type": "code",
   "execution_count": 47,
   "id": "e895403f-023f-4664-9118-2d146372dc79",
   "metadata": {},
   "outputs": [
    {
     "data": {
      "text/plain": [
       "'increased risk'"
      ]
     },
     "execution_count": 47,
     "metadata": {},
     "output_type": "execute_result"
    }
   ],
   "source": [
    "def riks(rA,rB):\n",
    "    RR=rA/rB\n",
    "    if RR>1:\n",
    "        return \"increased risk\"\n",
    "    elif RR<1:\n",
    "        return \"decreased risk\"\n",
    "    else:\n",
    "        return \"no chnage\"\n",
    "riks(0.2,0.1)        "
   ]
  },
  {
   "cell_type": "markdown",
   "id": "3318f36c-7811-4989-93b1-2e9b867a600a",
   "metadata": {},
   "source": [
    "## 12. Write a python function to calculate confidence interval. Given a sample list data and confidence level conf=0.95, return the margin of error using z=1.96 for 95% confidence.\n",
    "\n",
    "Formula:\n",
    "\n",
    "$$ \\text{Margin of Error} = Z \\times \\frac{\\sigma}{\\sqrt{n}} $$\n",
    "\n",
    "\n"
   ]
  },
  {
   "cell_type": "code",
   "execution_count": null,
   "id": "1a887147-139e-4ff0-8ba6-b0ebec7a4570",
   "metadata": {},
   "outputs": [],
   "source": []
  },
  {
   "cell_type": "markdown",
   "id": "01099bac-fe66-4b4a-b59d-a84ad9c6b2d2",
   "metadata": {},
   "source": [
    "## 13. Write a function for odds comparison. Given probabilities pA, pB (0..1, not 0 or 1), compute odds p/(1−p) for each and print which has Higher Odds or Equal.\n",
    "\n"
   ]
  },
  {
   "cell_type": "code",
   "execution_count": 46,
   "id": "ff4ff9ee-6f5d-43c8-9607-2303626d41fd",
   "metadata": {},
   "outputs": [
    {
     "name": "stdout",
     "output_type": "stream",
     "text": [
      "equal\n"
     ]
    }
   ],
   "source": [
    "def odd(PA,PB):\n",
    "    c=PA/(1-PA)\n",
    "    d=PB/(1-PB)\n",
    "    if c>d:\n",
    "        print(\"PA higher\")\n",
    "    elif c<d:\n",
    "        print(\"Pb higher\")\n",
    "    else:\n",
    "        print(\"equal\")\n",
    "odd(1.1,1.1)        \n",
    "        "
   ]
  },
  {
   "cell_type": "markdown",
   "id": "0b4ee352-cf67-4dbe-90ad-77960d1c083c",
   "metadata": {},
   "source": [
    "## 14. Write a python function for comparing two linear expressions. Given x, and coefficients a,b,c,d, compare a*x + b vs c*x + d and print which is larger or Equal.\n",
    "\n"
   ]
  },
  {
   "cell_type": "code",
   "execution_count": 31,
   "id": "dc3c75db-cbd7-4e8f-8c7c-066fec378697",
   "metadata": {},
   "outputs": [
    {
     "data": {
      "text/plain": [
       "'v is large'"
      ]
     },
     "execution_count": 31,
     "metadata": {},
     "output_type": "execute_result"
    }
   ],
   "source": [
    "def linear(x,a,b,c,d):\n",
    "    v=a*x+b\n",
    "    k=c*x+d\n",
    "    if a*x+b>c*x+d:\n",
    "        return \"v is large\"\n",
    "    elif a*x+b<c*x+d:\n",
    "        return \"k is large\"\n",
    "    else:\n",
    "        return \"v is equal\"\n",
    "linear(2,4,3,1,1)        \n",
    "        \n",
    "    \n",
    "    "
   ]
  },
  {
   "cell_type": "markdown",
   "id": "ff448619-d576-4a8b-86fb-ee95ef11bfbf",
   "metadata": {},
   "source": [
    "## 15. Write a python function for checking collinearity of three points.Given points A(x1,y1), B(x2,y2), C(x3,y3), use area/determinant test. \n",
    "If x1(y2−y3) + x2(y3−y1) + x3(y1−y2) = 0, print Collinear, else Not Collinear."
   ]
  },
  {
   "cell_type": "code",
   "execution_count": 19,
   "id": "2c32182f-ef74-4d87-8224-bbf7972e0968",
   "metadata": {},
   "outputs": [
    {
     "name": "stdout",
     "output_type": "stream",
     "text": [
      "not collinear\n"
     ]
    }
   ],
   "source": [
    "def collinearity(x1,y1,x2,y2,x3,y3):\n",
    "    determinant=x1*(y2-y3)+x2*(y3-y1)+x3*(y1-y2)\n",
    "    if determinant==0:\n",
    "        print(\"collinear\")\n",
    "    else:\n",
    "        print(\"not collinear\")\n",
    "collinearity(0,1,3,2,2,1)    "
   ]
  },
  {
   "cell_type": "code",
   "execution_count": null,
   "id": "4bf8fc9c-0658-42db-aafd-f5df2f432ef6",
   "metadata": {},
   "outputs": [],
   "source": []
  },
  {
   "cell_type": "code",
   "execution_count": null,
   "id": "c1a52713-2bc5-4bc0-8255-374c60e5d1e4",
   "metadata": {},
   "outputs": [],
   "source": []
  }
 ],
 "metadata": {
  "kernelspec": {
   "display_name": "Python [conda env:base] *",
   "language": "python",
   "name": "conda-base-py"
  },
  "language_info": {
   "codemirror_mode": {
    "name": "ipython",
    "version": 3
   },
   "file_extension": ".py",
   "mimetype": "text/x-python",
   "name": "python",
   "nbconvert_exporter": "python",
   "pygments_lexer": "ipython3",
   "version": "3.13.5"
  }
 },
 "nbformat": 4,
 "nbformat_minor": 5
}
