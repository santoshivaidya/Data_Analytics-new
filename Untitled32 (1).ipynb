{
 "cells": [
  {
   "cell_type": "code",
   "execution_count": 7,
   "id": "c99d54e7-f5ad-40b7-8aa6-93b39738e8d8",
   "metadata": {},
   "outputs": [
    {
     "name": "stdout",
     "output_type": "stream",
     "text": [
      "positive numbers 4\n",
      "positive numbers 8\n",
      "positive numbers 55\n",
      "positive numbers 10\n",
      "positive numbers 15\n"
     ]
    }
   ],
   "source": [
    "number=[-3,4,-6,8,-2,-1,55,10,-75,15]\n",
    "for i in number:\n",
    "    if i>0:\n",
    "      print(\"positive numbers\",i)\n",
    "        "
   ]
  },
  {
   "cell_type": "code",
   "execution_count": 10,
   "id": "6ff9e94b-bca5-4076-9e6d-580f49ea990f",
   "metadata": {},
   "outputs": [
    {
     "name": "stdout",
     "output_type": "stream",
     "text": [
      "unique [1, 2, 3, 4, 5]\n"
     ]
    }
   ],
   "source": [
    "l=[1,2,3,4,4,5]\n",
    "unique=[]\n",
    "for i in l:\n",
    "    if i not in unique:\n",
    "        unique+=[i]\n",
    "print(\"unique\",unique)            "
   ]
  },
  {
   "cell_type": "code",
   "execution_count": 14,
   "id": "8939e740-c8cd-409c-ae80-25de4b022411",
   "metadata": {},
   "outputs": [
    {
     "name": "stdout",
     "output_type": "stream",
     "text": [
      "multiply by 3 and 6 6\n",
      "multiply by 3 and 6 12\n",
      "multiply by 3 and 6 18\n",
      "multiply by 3 and 6 24\n"
     ]
    }
   ],
   "source": [
    "number=[3,6,12,18,21,24]\n",
    "for i in number:\n",
    "    if i%3==0 and i%6==0:\n",
    "        print(\"multiply by 3 and 6\",i)    "
   ]
  },
  {
   "cell_type": "code",
   "execution_count": 15,
   "id": "73cd8b9e-504b-4863-a0d4-32ffc3b10de7",
   "metadata": {},
   "outputs": [
    {
     "name": "stdin",
     "output_type": "stream",
     "text": [
      "enter string abc\n"
     ]
    },
    {
     "name": "stdout",
     "output_type": "stream",
     "text": [
      "count of consonants 2\n"
     ]
    }
   ],
   "source": [
    "string=input(\"enter string\")\n",
    "vowels=\"aeiouAEIOU\"\n",
    "consonants=0\n",
    "for char in string:\n",
    "      if char not in vowels:\n",
    "          consonants+=1\n",
    "print(\"count of consonants\",consonants)          "
   ]
  },
  {
   "cell_type": "code",
   "execution_count": null,
   "id": "b3a11759-ed7e-4186-949a-355426d55c16",
   "metadata": {},
   "outputs": [],
   "source": [
    "\n"
   ]
  }
 ],
 "metadata": {
  "kernelspec": {
   "display_name": "Python [conda env:base] *",
   "language": "python",
   "name": "conda-base-py"
  },
  "language_info": {
   "codemirror_mode": {
    "name": "ipython",
    "version": 3
   },
   "file_extension": ".py",
   "mimetype": "text/x-python",
   "name": "python",
   "nbconvert_exporter": "python",
   "pygments_lexer": "ipython3",
   "version": "3.13.5"
  }
 },
 "nbformat": 4,
 "nbformat_minor": 5
}
