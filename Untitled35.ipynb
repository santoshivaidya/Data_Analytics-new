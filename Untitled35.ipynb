{
 "cells": [
  {
   "cell_type": "code",
   "execution_count": 36,
   "id": "bc7950dd-7ebf-4fc7-8a33-f4a852057f6c",
   "metadata": {},
   "outputs": [
    {
     "name": "stdout",
     "output_type": "stream",
     "text": [
      "reserved number 789\n",
      "reserved number 456\n",
      "reserved number 123\n"
     ]
    }
   ],
   "source": [
    "#1...\n",
    "number=[987,654,321]\n",
    "for i in number:\n",
    "    reversed_num=int(str(i)[::-1])\n",
    "    print(\"reserved number\",reversed_num)  "
   ]
  },
  {
   "cell_type": "code",
   "execution_count": 1,
   "id": "89e9ebad-f4c4-40b7-aaaf-2acbe3bad155",
   "metadata": {},
   "outputs": [
    {
     "name": "stdout",
     "output_type": "stream",
     "text": [
      "divisible by 7 [True, True, True, True, True, False, False]\n"
     ]
    }
   ],
   "source": [
    "#2...\n",
    "number=[7,14,21,28,35,2,3,]\n",
    "divisible7=list(map(lambda x:x%7==0,number))\n",
    "print(\"divisible by 7\",divisible7)"
   ]
  },
  {
   "cell_type": "code",
   "execution_count": 2,
   "id": "ef057287-560c-4a2a-8400-ec5d6c567010",
   "metadata": {},
   "outputs": [
    {
     "name": "stdout",
     "output_type": "stream",
     "text": [
      "even numbers [2, 6]\n"
     ]
    }
   ],
   "source": [
    "#3...\n",
    "l=[2,3,1,7,6,5]\n",
    "even_no=list(filter(lambda x:x%2==0,l))\n",
    "print(\"even numbers\",even_no)"
   ]
  },
  {
   "cell_type": "code",
   "execution_count": null,
   "id": "6c915e7d-2ac1-4dd8-8d99-27433ffec7fd",
   "metadata": {},
   "outputs": [],
   "source": [
    "#4...\n",
    "number=[123,456,789]\n",
    "def product_even(n):\n",
    "    prod=1\n",
    "    for digit in str(n):\n",
    "        prod*=int(digit)\n",
    "    return prod%2==0\n",
    "product_even_number=list(filter(product_even,number))\n",
    "print(product_even_number)"
   ]
  },
  {
   "cell_type": "code",
   "execution_count": 3,
   "id": "54160f74-63ec-4107-915b-fe2b10cd9ab4",
   "metadata": {},
   "outputs": [
    {
     "name": "stdout",
     "output_type": "stream",
     "text": [
      "sum of minimum and maximum 100\n"
     ]
    }
   ],
   "source": [
    "#5...\n",
    "from functools import reduce\n",
    "number=[20,70,45,99,1]\n",
    "sum_min_max=reduce(lambda x,y:x+y,[min(number),max(number)])\n",
    "print(\"sum of minimum and maximum\",sum_min_max)"
   ]
  },
  {
   "cell_type": "code",
   "execution_count": 4,
   "id": "9c80ba26-f7c6-494b-8f18-1cdee71038eb",
   "metadata": {},
   "outputs": [
    {
     "name": "stdout",
     "output_type": "stream",
     "text": [
      "divisible by 7 [True, True, True, True, True, False, False]\n"
     ]
    }
   ],
   "source": [
    "#8...\n",
    "number=[7,14,21,28,35,2,3,]\n",
    "divisible7=list(map(lambda x:x%7==0,number))\n",
    "print(\"divisible by 7\",divisible7)"
   ]
  },
  {
   "cell_type": "code",
   "execution_count": null,
   "id": "2d14852a-06f7-4480-86a3-952b54610738",
   "metadata": {},
   "outputs": [],
   "source": [
    "\n"
   ]
  }
 ],
 "metadata": {
  "kernelspec": {
   "display_name": "Python [conda env:base] *",
   "language": "python",
   "name": "conda-base-py"
  },
  "language_info": {
   "codemirror_mode": {
    "name": "ipython",
    "version": 3
   },
   "file_extension": ".py",
   "mimetype": "text/x-python",
   "name": "python",
   "nbconvert_exporter": "python",
   "pygments_lexer": "ipython3",
   "version": "3.13.5"
  }
 },
 "nbformat": 4,
 "nbformat_minor": 5
}
