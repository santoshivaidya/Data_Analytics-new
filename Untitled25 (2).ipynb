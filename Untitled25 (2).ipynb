{
 "cells": [
  {
   "cell_type": "code",
   "execution_count": 1,
   "id": "864293ee-398d-4b9d-8820-6ae8baad8a3c",
   "metadata": {},
   "outputs": [
    {
     "data": {
      "text/plain": [
       "True"
      ]
     },
     "execution_count": 1,
     "metadata": {},
     "output_type": "execute_result"
    }
   ],
   "source": [
    "def vector_perpendicular(a1,b1,c1,a2,b2,c2):\n",
    "    dot=a1*a2+b1*b2+c1*c2\n",
    "    return dot==0\n",
    "vector_perpendicular(1,0,0,0,1,0)    "
   ]
  },
  {
   "cell_type": "code",
   "execution_count": 9,
   "id": "cf3b02c6-3eaa-4b23-95fd-3f0932954f2a",
   "metadata": {},
   "outputs": [
    {
     "data": {
      "text/plain": [
       "60"
      ]
     },
     "execution_count": 9,
     "metadata": {},
     "output_type": "execute_result"
    }
   ],
   "source": [
    "def lcm(a,b,i=1):\n",
    "    if i%a==0 and i%b==0:\n",
    "        return i \n",
    "    else:\n",
    "        return lcm(a,b,i+1)\n",
    "lcm(15,20)    "
   ]
  },
  {
   "cell_type": "code",
   "execution_count": 11,
   "id": "86f45926-f42d-49c6-ae1b-c170ef5650c3",
   "metadata": {},
   "outputs": [
    {
     "data": {
      "text/plain": [
       "6"
      ]
     },
     "execution_count": 11,
     "metadata": {},
     "output_type": "execute_result"
    }
   ],
   "source": [
    "def gcd(a,b):\n",
    "    if b==0:\n",
    "        return a\n",
    "    else:\n",
    "       return gcd(b,a%b)\n",
    "gcd(48,18)        \n"
   ]
  },
  {
   "cell_type": "code",
   "execution_count": 21,
   "id": "4e9a9dd9-21fe-4ac5-8584-21fe22038033",
   "metadata": {},
   "outputs": [
    {
     "data": {
      "text/plain": [
       "6"
      ]
     },
     "execution_count": 21,
     "metadata": {},
     "output_type": "execute_result"
    }
   ],
   "source": [
    "def product_digit(n):\n",
    "    if n==0:\n",
    "        return 1\n",
    "    else:    \n",
    "        return n%10*product_digit(n//10)\n",
    "product_digit(123)    "
   ]
  },
  {
   "cell_type": "code",
   "execution_count": 30,
   "id": "8ead2564-c7b9-4535-8d25-cc9a9ef19cd9",
   "metadata": {},
   "outputs": [
    {
     "data": {
      "text/plain": [
       "321"
      ]
     },
     "execution_count": 30,
     "metadata": {},
     "output_type": "execute_result"
    }
   ],
   "source": [
    "def reverse(n,rev=0):\n",
    "    if n==0:\n",
    "        return rev\n",
    "    else:\n",
    "        return reverse(n//10,rev*10+n%10)\n",
    "reverse(123)        "
   ]
  },
  {
   "cell_type": "code",
   "execution_count": 31,
   "id": "25c1eec7-2d8a-4532-b47c-32e095209d29",
   "metadata": {},
   "outputs": [
    {
     "data": {
      "text/plain": [
       "2"
      ]
     },
     "execution_count": 31,
     "metadata": {},
     "output_type": "execute_result"
    }
   ],
   "source": [
    "def count_even(n):\n",
    "    if n==0:\n",
    "        return 0\n",
    "    else:    \n",
    "         return (n%10%2==0)+count_even(n//10)\n",
    "count_even(1234)    "
   ]
  },
  {
   "cell_type": "code",
   "execution_count": 52,
   "id": "7d895cfb-619e-487b-80b0-199fb19452c8",
   "metadata": {},
   "outputs": [
    {
     "data": {
      "text/plain": [
       "3"
      ]
     },
     "execution_count": 52,
     "metadata": {},
     "output_type": "execute_result"
    }
   ],
   "source": [
    "def count_zero(n):\n",
    "    if n<10:\n",
    "        return 1 \n",
    "    if n==0:\n",
    "        return 0\n",
    "    else: 0\n",
    "    return (n%10==0) + count_zero(n//10)\n",
    "count_zero(1004)    "
   ]
  },
  {
   "cell_type": "code",
   "execution_count": 10,
   "id": "21b1f97d-25b7-4fda-9088-765b42f389be",
   "metadata": {},
   "outputs": [
    {
     "data": {
      "text/plain": [
       "2"
      ]
     },
     "execution_count": 10,
     "metadata": {},
     "output_type": "execute_result"
    }
   ],
   "source": [
    "def count_digits_greater_than_five(n):\n",
    "    if n==0:\n",
    "        return 0\n",
    "    return (n%10>5)+count_digits_greater_than_five(n//10)\n",
    "count_digits_greater_than_five(189)    "
   ]
  },
  {
   "cell_type": "code",
   "execution_count": 88,
   "id": "043bf29c-48e0-4d86-8b60-1e98480af4c3",
   "metadata": {},
   "outputs": [
    {
     "data": {
      "text/plain": [
       "35"
      ]
     },
     "execution_count": 88,
     "metadata": {},
     "output_type": "execute_result"
    }
   ],
   "source": [
    "def sum_square_alternate_digit(n,position=1):\n",
    "    if n==0:\n",
    "        return 0\n",
    "    return (n%10)**2*(position %2==0)  + sum_square_alternate_digit(n//10,position+1)\n",
    "sum_square_alternate_digit(123456)   "
   ]
  },
  {
   "cell_type": "code",
   "execution_count": 63,
   "id": "5e4a427c-e80b-499d-8266-8fed3ff987c5",
   "metadata": {},
   "outputs": [
    {
     "data": {
      "text/plain": [
       "15"
      ]
     },
     "execution_count": 63,
     "metadata": {},
     "output_type": "execute_result"
    }
   ],
   "source": [
    "def sum(n):\n",
    "    if n==1:\n",
    "        return 1\n",
    "    else:\n",
    "        return n+ sum (n-1)\n",
    "sum(5)        "
   ]
  },
  {
   "cell_type": "code",
   "execution_count": 64,
   "id": "e00bee88-0f33-4ff7-a64e-2c73458da5c0",
   "metadata": {},
   "outputs": [
    {
     "data": {
      "text/plain": [
       "8"
      ]
     },
     "execution_count": 64,
     "metadata": {},
     "output_type": "execute_result"
    }
   ],
   "source": [
    "def cal(a,b):\n",
    "    if b==0:\n",
    "        return 1\n",
    "    elif b==1:\n",
    "        return a\n",
    "    else:\n",
    "        return a*cal(a,b-1)\n",
    "cal(2,3)        "
   ]
  },
  {
   "cell_type": "code",
   "execution_count": 65,
   "id": "badd9858-9f74-4dec-b807-e8a21fbf91f8",
   "metadata": {},
   "outputs": [
    {
     "name": "stdout",
     "output_type": "stream",
     "text": [
      "2\n",
      "4\n",
      "6\n"
     ]
    }
   ],
   "source": [
    "def divisible(divisior,*args):\n",
    "    for num in args:\n",
    "        if num%divisior==0:\n",
    "            print (num)\n",
    "       \n",
    "divisible(2,1,2,3,4,5,6)            "
   ]
  },
  {
   "cell_type": "code",
   "execution_count": 72,
   "id": "221fb50c-b6e5-438b-9715-5dc4e049da43",
   "metadata": {},
   "outputs": [
    {
     "data": {
      "text/plain": [
       "True"
      ]
     },
     "execution_count": 72,
     "metadata": {},
     "output_type": "execute_result"
    }
   ],
   "source": [
    "def prime(num):\n",
    "    if num<2:\n",
    "        return False\n",
    "    for i in range(2,num):\n",
    "        if num % i==0:\n",
    "            return False\n",
    "    return True\n",
    "prime(5)    "
   ]
  },
  {
   "cell_type": "code",
   "execution_count": 3,
   "id": "ed7eaf55-d268-472a-aa65-28f4ece16368",
   "metadata": {},
   "outputs": [
    {
     "data": {
      "text/plain": [
       "15"
      ]
     },
     "execution_count": 3,
     "metadata": {},
     "output_type": "execute_result"
    }
   ],
   "source": [
    "def sum_natural_no(n):\n",
    "    if n<=1:\n",
    "        return n\n",
    "    else:\n",
    "        return n+sum_natural_no(n-1)\n",
    "\n",
    "sum_natural_no(5)"
   ]
  },
  {
   "cell_type": "code",
   "execution_count": 5,
   "id": "4936eaed-af46-4264-906e-e008cc8b7fb2",
   "metadata": {},
   "outputs": [
    {
     "data": {
      "text/plain": [
       "8"
      ]
     },
     "execution_count": 5,
     "metadata": {},
     "output_type": "execute_result"
    }
   ],
   "source": [
    "def power(a,b):\n",
    "    if b==0:\n",
    "        return 1\n",
    "    elif b<0:\n",
    "        return 1/power(a,-b)\n",
    "    else:\n",
    "        return a* power(a,b-1)\n",
    "power(2,3)        "
   ]
  },
  {
   "cell_type": "code",
   "execution_count": 35,
   "id": "be586846-3576-4fc2-8c76-97976a68a23c",
   "metadata": {},
   "outputs": [
    {
     "data": {
      "text/plain": [
       "4"
      ]
     },
     "execution_count": 35,
     "metadata": {},
     "output_type": "execute_result"
    }
   ],
   "source": [
    "def count_digit(n):\n",
    "    if n<10 and n>=0:\n",
    "        return 1\n",
    "    elif n<0:\n",
    "        return count_digit(-n)\n",
    "    else:\n",
    "        return 1+count_digit(n//10)\n",
    "count_digit(1234)        "
   ]
  },
  {
   "cell_type": "code",
   "execution_count": 12,
   "id": "89a4e82f-6029-497b-9f2b-02d1983b326e",
   "metadata": {},
   "outputs": [
    {
     "data": {
      "text/plain": [
       "6"
      ]
     },
     "execution_count": 12,
     "metadata": {},
     "output_type": "execute_result"
    }
   ],
   "source": [
    " def gcd(a,b):\n",
    "     while b!=0:\n",
    "         a,b=b,a%b\n",
    "     return a\n",
    "gcd(48,18)     "
   ]
  },
  {
   "cell_type": "code",
   "execution_count": 13,
   "id": "91959cf9-0985-48c3-aa46-8a61672a32fc",
   "metadata": {},
   "outputs": [
    {
     "data": {
      "text/plain": [
       "(2.0, 3.0)"
      ]
     },
     "execution_count": 13,
     "metadata": {},
     "output_type": "execute_result"
    }
   ],
   "source": [
    "def midpoint(x1,y1,x2,y2):\n",
    "    return((x1+x2)/2,(y1+y2)/2)\n",
    "midpoint(1,2,3,4)    "
   ]
  },
  {
   "cell_type": "code",
   "execution_count": 20,
   "id": "9ed4f7ec-0e88-4eeb-89af-c7cea23b5bad",
   "metadata": {},
   "outputs": [
    {
     "data": {
      "text/plain": [
       "'on'"
      ]
     },
     "execution_count": 20,
     "metadata": {},
     "output_type": "execute_result"
    }
   ],
   "source": [
    "def  circle(px,py,cx,cy,r):\n",
    "    distance=((px-cx)**2+(py-cy)**2)**0.5\n",
    "    if distance<r:\n",
    "              return \"inside\"\n",
    "    elif  distance==r:\n",
    "               return \"on\"\n",
    "    else:\n",
    "               return \"outside\"\n",
    "circle(3,4,0,0,5)        "
   ]
  },
  {
   "cell_type": "code",
   "execution_count": 25,
   "id": "0a026802-7aaa-407b-abc8-028b9ed54f44",
   "metadata": {},
   "outputs": [
    {
     "data": {
      "text/plain": [
       "5.0"
      ]
     },
     "execution_count": 25,
     "metadata": {},
     "output_type": "execute_result"
    }
   ],
   "source": [
    "def distance_origin(x,y):\n",
    "    return (x**2+y**2)**0.5  \n",
    "distance_origin(3,4) \n",
    "\n"
   ]
  },
  {
   "cell_type": "code",
   "execution_count": 26,
   "id": "3b11301b-6ffd-420c-a6da-a18dd07f96d4",
   "metadata": {},
   "outputs": [
    {
     "data": {
      "text/plain": [
       "True"
      ]
     },
     "execution_count": 26,
     "metadata": {},
     "output_type": "execute_result"
    }
   ],
   "source": [
    "def collinear(x1,y1,x2,y2,x3,y3):\n",
    "    return (y2-y1)*(x3-x2)==(y3-y2)*(x2-x1)\n",
    "collinear(1,1,2,2,3,3)"
   ]
  },
  {
   "cell_type": "code",
   "execution_count": 29,
   "id": "e52af0a3-a786-430b-b9f5-21ac935ed8b8",
   "metadata": {},
   "outputs": [
    {
     "data": {
      "text/plain": [
       "(2.0, 2.0)"
      ]
     },
     "execution_count": 29,
     "metadata": {},
     "output_type": "execute_result"
    }
   ],
   "source": [
    "def centroid(x1,y1,x2,y2,x3,y3):\n",
    "    return ((x1+x2+x3)/3,(y1+y2+y3)/3)\n",
    "centroid(1,1,2,2,3,3)    "
   ]
  },
  {
   "cell_type": "code",
   "execution_count": 44,
   "id": "fefb819e-96c3-4514-9d48-180439be4ed4",
   "metadata": {},
   "outputs": [
    {
     "name": "stdout",
     "output_type": "stream",
     "text": [
      "name is  abc\n",
      "score is 10\n",
      "score is 20\n",
      "score is 30\n",
      "weight is:\n",
      "key is math value is 2\n",
      "key is english value is 1\n"
     ]
    }
   ],
   "source": [
    "def student_profile(name,*score,**weight):\n",
    "    print(\"name is \",name)\n",
    "    for i in score:\n",
    "        print(\"score is\",i)\n",
    "    print(\"weight is:\")\n",
    "    for k,v in weight.items():\n",
    "        print(\"key is\",k,\"value is\",v)\n",
    "    \n",
    "student_profile(\"abc\",10,20,30,math=2,english=1)"
   ]
  },
  {
   "cell_type": "code",
   "execution_count": 16,
   "id": "852af45e-27a3-4dda-b225-445567044c45",
   "metadata": {},
   "outputs": [
    {
     "name": "stdout",
     "output_type": "stream",
     "text": [
      "name is East\n",
      "sales is 100\n",
      "total_bouns {'day1': 100, 'day3': 50}\n",
      "sales is 200\n",
      "total_bouns {'day1': 100, 'day3': 50}\n",
      "sales is 300\n",
      "total_bouns {'day1': 100, 'day3': 50}\n",
      "number of days 3\n"
     ]
    }
   ],
   "source": [
    "def sales_report(region,*sales,**bounces):\n",
    "    print(\"name is\",region)\n",
    "    day=0\n",
    "    for i in sales:\n",
    "        print(\"sales is\",i)\n",
    "        print(\"total_bouns\",bounces)\n",
    "        day+=1\n",
    "    print(\"number of days\",day)\n",
    "sales_report(\"East\",100,200,300,day1=100,day3=50)\n",
    "\n",
    "\n"
   ]
  },
  {
   "cell_type": "code",
   "execution_count": 20,
   "id": "430fb6b7-bbfe-42fb-a178-0d5abec69df8",
   "metadata": {},
   "outputs": [
    {
     "data": {
      "text/plain": [
       "30"
      ]
     },
     "execution_count": 20,
     "metadata": {},
     "output_type": "execute_result"
    }
   ],
   "source": [
    "def sum_of_power(power,*args):\n",
    "    return sum(a**power for a in args)\n",
    "sum_of_power(2,1,2,3,4)    "
   ]
  },
  {
   "cell_type": "code",
   "execution_count": 27,
   "id": "19f9e888-42e2-4247-a8d0-53d7d8d4a73c",
   "metadata": {},
   "outputs": [
    {
     "data": {
      "text/plain": [
       "2"
      ]
     },
     "execution_count": 27,
     "metadata": {},
     "output_type": "execute_result"
    }
   ],
   "source": [
    "def divisible(divisor,*args):\n",
    "    for i in args:\n",
    "        if i%divisor==0:\n",
    "            return i\n",
    "divisible(1,2,3,4,5)       "
   ]
  },
  {
   "cell_type": "code",
   "execution_count": 35,
   "id": "991ed646-035c-4683-bffa-8a0c2a226025",
   "metadata": {},
   "outputs": [
    {
     "name": "stdout",
     "output_type": "stream",
     "text": [
      "name is anu\n",
      "marks is 70\n",
      "penalities {'late': 5, 'cheAating': 10}\n",
      "total_score 191\n",
      "marks is 66\n",
      "penalities {'late': 5, 'cheAating': 10}\n",
      "total_score 191\n",
      "marks is 55\n",
      "penalities {'late': 5, 'cheAating': 10}\n",
      "total_score 191\n"
     ]
    }
   ],
   "source": [
    "def gread_exam(student,*marks,**penalities):\n",
    "    print(\"name is\",student)\n",
    "    total_score=sum(marks)\n",
    "    for i in marks:\n",
    "        print(\"marks is\",i)\n",
    "        print(\"penalities\",penalities)\n",
    "        print(\"total_score\",total_score)\n",
    "gread_exam(\"anu\",70,66,55,late=5,cheAating=10)\n"
   ]
  },
  {
   "cell_type": "code",
   "execution_count": 49,
   "id": "f5e11372-f116-4f97-ae08-ab8291395cbd",
   "metadata": {},
   "outputs": [
    {
     "name": "stdout",
     "output_type": "stream",
     "text": [
      "perfect no 6\n",
      "not perfect 8\n"
     ]
    }
   ],
   "source": [
    "def perfect_no(*args):\n",
    "    for n in args:\n",
    "        sum=0\n",
    "        for i in range(1,n):\n",
    "            if n%i==0:\n",
    "                sum+=i\n",
    "        if sum==n:\n",
    "            print(\"perfect no\",n)\n",
    "        else:\n",
    "            print(\"not perfect\",n)\n",
    "            \n",
    "perfect_no(6,8)            "
   ]
  },
  {
   "cell_type": "code",
   "execution_count": 69,
   "id": "c38cea9a-ff3e-4c79-963c-158d322bc009",
   "metadata": {},
   "outputs": [
    {
     "name": "stdout",
     "output_type": "stream",
     "text": [
      "2 is prime:True\n",
      "3 is prime:True\n",
      "4 is prime:False\n",
      "5 is prime:True\n",
      "6 is prime:False\n"
     ]
    }
   ],
   "source": [
    "def check_prime(*args):\n",
    "    for i in args:\n",
    "        prime=True\n",
    "        if i<2:\n",
    "            prime=False\n",
    "        else:\n",
    "            for n in range(2,i):\n",
    "                if i%n==0:\n",
    "                    prime=False\n",
    "                    \n",
    "        print(f\"{i} is prime:{prime}\")              \n",
    "              \n",
    "check_prime(2,3,4,5,6)                    "
   ]
  },
  {
   "cell_type": "code",
   "execution_count": null,
   "id": "21f0e535-a866-48b0-a9b8-8d1f8eebeed2",
   "metadata": {},
   "outputs": [],
   "source": []
  }
 ],
 "metadata": {
  "kernelspec": {
   "display_name": "Python [conda env:base] *",
   "language": "python",
   "name": "conda-base-py"
  },
  "language_info": {
   "codemirror_mode": {
    "name": "ipython",
    "version": 3
   },
   "file_extension": ".py",
   "mimetype": "text/x-python",
   "name": "python",
   "nbconvert_exporter": "python",
   "pygments_lexer": "ipython3",
   "version": "3.13.5"
  }
 },
 "nbformat": 4,
 "nbformat_minor": 5
}
