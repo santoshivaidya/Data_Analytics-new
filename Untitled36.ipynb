{
 "cells": [
  {
   "cell_type": "code",
   "execution_count": 8,
   "id": "dee66b78-13aa-4388-9b64-109e2fa8e682",
   "metadata": {},
   "outputs": [
    {
     "name": "stdout",
     "output_type": "stream",
     "text": [
      "[22, 11, 12]\n"
     ]
    }
   ],
   "source": [
    "#1...\n",
    "number=[22.4,11.1,12]\n",
    "result=list(map(lambda x:int(x),number))\n",
    "print(result)"
   ]
  },
  {
   "cell_type": "code",
   "execution_count": 9,
   "id": "acf2e778-267d-4d36-adcb-649782c57a22",
   "metadata": {},
   "outputs": [
    {
     "name": "stdout",
     "output_type": "stream",
     "text": [
      "[5, 8, 7]\n"
     ]
    }
   ],
   "source": [
    "#2...\n",
    "number=[345,678,987]\n",
    "result=list(map(lambda x: x%10,number))\n",
    "print(result)"
   ]
  },
  {
   "cell_type": "code",
   "execution_count": 36,
   "id": "c63aba4b-ed4a-45d4-9192-4b4e7083de3c",
   "metadata": {},
   "outputs": [
    {
     "name": "stdout",
     "output_type": "stream",
     "text": [
      "[1, 2, 9, 64]\n"
     ]
    }
   ],
   "source": [
    "#3...\n",
    "number=[1,2,3,4]\n",
    "result=list(map(lambda x: x[1]**x[0],enumerate(number)))\n",
    "print(result)"
   ]
  },
  {
   "cell_type": "code",
   "execution_count": 6,
   "id": "cea572dd-9eb3-4a2c-a228-e3a768814f86",
   "metadata": {},
   "outputs": [
    {
     "name": "stdout",
     "output_type": "stream",
     "text": [
      "[123]\n"
     ]
    }
   ],
   "source": [
    "#4.....\n",
    "number=[1,12,123,1000]\n",
    "result=list(filter(lambda x:100<=x<=999,number))\n",
    "print(result)"
   ]
  },
  {
   "cell_type": "code",
   "execution_count": 9,
   "id": "05f07629-49fd-4551-95fe-bc83c6f48cd7",
   "metadata": {},
   "outputs": [
    {
     "name": "stdout",
     "output_type": "stream",
     "text": [
      "[1, 7, 11]\n"
     ]
    }
   ],
   "source": [
    "#5...\n",
    "number=[4,6,10,15,1,7,11]\n",
    "result=list(filter(lambda x: x%2!=0 and x%3!=0 and x%5!=0,number))\n",
    "print(result)"
   ]
  },
  {
   "cell_type": "code",
   "execution_count": null,
   "id": "1e76dd4b-53a8-4c55-9213-ac3d45fdb198",
   "metadata": {},
   "outputs": [],
   "source": []
  }
 ],
 "metadata": {
  "kernelspec": {
   "display_name": "Python [conda env:base] *",
   "language": "python",
   "name": "conda-base-py"
  },
  "language_info": {
   "codemirror_mode": {
    "name": "ipython",
    "version": 3
   },
   "file_extension": ".py",
   "mimetype": "text/x-python",
   "name": "python",
   "nbconvert_exporter": "python",
   "pygments_lexer": "ipython3",
   "version": "3.13.5"
  }
 },
 "nbformat": 4,
 "nbformat_minor": 5
}
