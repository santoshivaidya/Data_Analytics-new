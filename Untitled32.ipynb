{
 "cells": [
  {
   "cell_type": "code",
   "execution_count": 19,
   "id": "c99d54e7-f5ad-40b7-8aa6-93b39738e8d8",
   "metadata": {},
   "outputs": [
    {
     "name": "stdout",
     "output_type": "stream",
     "text": [
      "positive numbers [4, 8, 55, 10, 15]\n"
     ]
    }
   ],
   "source": [
    "number=[-3,4,-6,8,-2,-1,55,10,-75,15]\n",
    "numbers=[]\n",
    "for i in number:\n",
    "    if i>0:\n",
    "        numbers+=[i]\n",
    "print(\"positive numbers\",numbers)        "
   ]
  },
  {
   "cell_type": "code",
   "execution_count": 37,
   "id": "4654e793-a133-48e0-bddd-6f9600d0d141",
   "metadata": {},
   "outputs": [
    {
     "name": "stdin",
     "output_type": "stream",
     "text": [
      "enter string aeioum\n"
     ]
    },
    {
     "name": "stdout",
     "output_type": "stream",
     "text": [
      "count of consonants 1\n"
     ]
    }
   ],
   "source": [
    "string=input(\"enter string\")\n",
    "vowels=\"aeiouAEIOU\"\n",
    "consonants=0\n",
    "for char in string:\n",
    "    if char>='a'and char<='z' :\n",
    "      if char not in vowels:\n",
    "          consonants+=1\n",
    "print(\"count of consonants\",consonants)          "
   ]
  },
  {
   "cell_type": "code",
   "execution_count": 7,
   "id": "6ff9e94b-bca5-4076-9e6d-580f49ea990f",
   "metadata": {},
   "outputs": [
    {
     "name": "stdout",
     "output_type": "stream",
     "text": [
      "unique [1, 2, 3, 4, 5]\n",
      "original without duplicte [4]\n"
     ]
    }
   ],
   "source": [
    "l=[1,2,3,4,4,5]\n",
    "unique=[]\n",
    "duplicte=[]\n",
    "for i in l:\n",
    "    if i not in unique:\n",
    "        unique+=[i]\n",
    "    else:\n",
    "        if i not in duplicte:\n",
    "            duplicte+=[i]\n",
    "print(\"unique\",unique)            \n",
    "print(\"original without duplicte\",duplicte)\n"
   ]
  },
  {
   "cell_type": "code",
   "execution_count": 16,
   "id": "8939e740-c8cd-409c-ae80-25de4b022411",
   "metadata": {},
   "outputs": [
    {
     "name": "stdout",
     "output_type": "stream",
     "text": [
      "multiply of 3 [3, 6, 12, 18, 21, 24]\n",
      "multiply of 6 [6, 12, 18, 24]\n"
     ]
    }
   ],
   "source": [
    "number=[3,6,12,18,21,24]\n",
    "mul3=[]\n",
    "mul6=[]\n",
    "for i in number:\n",
    "    if i%3==0:\n",
    "     mul3+=[i]\n",
    "    if i%6==0:\n",
    "     mul6+=[i]\n",
    "print(\"multiply of 3\",mul3)\n",
    "print(\"multiply of 6\",mul6)"
   ]
  },
  {
   "cell_type": "code",
   "execution_count": null,
   "id": "73cd8b9e-504b-4863-a0d4-32ffc3b10de7",
   "metadata": {},
   "outputs": [],
   "source": []
  }
 ],
 "metadata": {
  "kernelspec": {
   "display_name": "Python [conda env:base] *",
   "language": "python",
   "name": "conda-base-py"
  },
  "language_info": {
   "codemirror_mode": {
    "name": "ipython",
    "version": 3
   },
   "file_extension": ".py",
   "mimetype": "text/x-python",
   "name": "python",
   "nbconvert_exporter": "python",
   "pygments_lexer": "ipython3",
   "version": "3.13.5"
  }
 },
 "nbformat": 4,
 "nbformat_minor": 5
}
