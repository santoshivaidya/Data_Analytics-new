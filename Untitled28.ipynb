{
 "cells": [
  {
   "cell_type": "code",
   "execution_count": 28,
   "id": "9faadfae-893d-4f07-9455-53eb04d81d94",
   "metadata": {},
   "outputs": [
    {
     "name": "stdin",
     "output_type": "stream",
     "text": [
      "enter a number 4\n"
     ]
    },
    {
     "data": {
      "text/plain": [
       "'number is even'"
      ]
     },
     "execution_count": 28,
     "metadata": {},
     "output_type": "execute_result"
    }
   ],
   "source": [
    "def even_odd(number):\n",
    "    if number%2==0:\n",
    "        return \"number is even\"\n",
    "    else:\n",
    "        return \"number is odd\"\n",
    "number=int(input(\"enter a number\"))  \n",
    "even_odd(number)        "
   ]
  },
  {
   "cell_type": "code",
   "execution_count": 14,
   "id": "c8f55ba3-77dd-4021-b2ab-7c1b9add315a",
   "metadata": {},
   "outputs": [
    {
     "name": "stdin",
     "output_type": "stream",
     "text": [
      "Enter a number:  4\n"
     ]
    },
    {
     "name": "stdout",
     "output_type": "stream",
     "text": [
      "4 is not a prime number because it is divisible by 2.\n"
     ]
    }
   ],
   "source": [
    "def prime_no():\n",
    " for i in range(1):\n",
    "  if number == 2 or number == 3 or number == 5 or number == 7:\n",
    "    print(f\"{number} is a prime number.\")\n",
    "  elif number == 1 or number < 1:\n",
    "    print(f\"{number} is not a prime number because it is less than 2.\")\n",
    "  else:\n",
    "    if number % 2 == 0:\n",
    "        print(f\"{number} is not a prime number because it is divisible by 2.\")\n",
    "    elif number % 3 == 0:\n",
    "        print(f\"{number} is not a prime number because it is divisible by 3.\")\n",
    "    elif number % 5 == 0:\n",
    "        print(f\"{number} is not a prime number because it is divisible by 5.\")\n",
    "    elif number % 7 == 0:\n",
    "        print(f\"{number} is not a prime number because it is divisible by 7.\")\n",
    "    else:\n",
    "        print(f\"{number} is a prime number.\")\n",
    "number = int(input(\"Enter a number: \"))        \n",
    "prime_no()"
   ]
  },
  {
   "cell_type": "code",
   "execution_count": 31,
   "id": "5bbd9f9a-b626-4b32-b1f6-39d8735802d9",
   "metadata": {},
   "outputs": [
    {
     "name": "stdin",
     "output_type": "stream",
     "text": [
      "Enter the percentage:  90\n"
     ]
    },
    {
     "name": "stdout",
     "output_type": "stream",
     "text": [
      "Grade A+\n"
     ]
    }
   ],
   "source": [
    "percentage =int(input(\"Enter the percentage: \"))\n",
    "def grade():\n",
    "        if percentage >= 90:\n",
    "           print(\"Grade A+\")\n",
    "        elif percentage >= 80:\n",
    "           print(\"Grade A\")\n",
    "        elif percentage >= 70:\n",
    "          print(\"Grade B+\")\n",
    "        elif percentage >= 60:\n",
    "            print(\"Grade B\")\n",
    "        elif percentage >= 40:\n",
    "          print(\"Pass\")\n",
    "        else:\n",
    "         print(\"Fail\")\n",
    "grade()"
   ]
  },
  {
   "cell_type": "code",
   "execution_count": 24,
   "id": "b28bd2a7-157e-4964-816b-a020bfcd5e38",
   "metadata": {},
   "outputs": [
    {
     "name": "stdin",
     "output_type": "stream",
     "text": [
      "enter a table 5\n"
     ]
    },
    {
     "name": "stdout",
     "output_type": "stream",
     "text": [
      "5 x 1 = 5\n",
      "5 x 2 = 10\n",
      "5 x 3 = 15\n",
      "5 x 4 = 20\n",
      "5 x 5 = 25\n",
      "5 x 6 = 30\n",
      "5 x 7 = 35\n",
      "5 x 8 = 40\n",
      "5 x 9 = 45\n",
      "5 x 10 = 50\n"
     ]
    }
   ],
   "source": [
    "num=int(input(\"enter a table\"))\n",
    "def mul_table(num):\n",
    "    i=1\n",
    "    while i<11:\n",
    "        print(num,'x',i,'=',num*i)\n",
    "        i+=1\n",
    "mul_table(num)      "
   ]
  },
  {
   "cell_type": "code",
   "execution_count": 19,
   "id": "a7302945-a9ec-4d3d-abf0-063ac6eaeb72",
   "metadata": {},
   "outputs": [
    {
     "name": "stdin",
     "output_type": "stream",
     "text": [
      "enter a multiplication table 10\n"
     ]
    },
    {
     "name": "stdout",
     "output_type": "stream",
     "text": [
      "10 x 1 = 10\n",
      "10 x 2 = 20\n",
      "10 x 3 = 30\n",
      "10 x 4 = 40\n",
      "10 x 5 = 50\n",
      "10 x 6 = 60\n",
      "10 x 7 = 70\n",
      "10 x 8 = 80\n",
      "10 x 9 = 90\n",
      "10 x 10 = 100\n"
     ]
    }
   ],
   "source": [
    "num=int(input(\"enter a multiplication table\"))\n",
    "def mul_table(num):\n",
    "    for i in range(1,11):\n",
    "        print(num,'x',i,'=',num*i)\n",
    "mul_table(num)      "
   ]
  },
  {
   "cell_type": "code",
   "execution_count": 29,
   "id": "d8afa0cc-a01f-42e0-9e7e-97cfd8f4385b",
   "metadata": {},
   "outputs": [
    {
     "name": "stdin",
     "output_type": "stream",
     "text": [
      "Enter a starting number for the countdown:  5\n"
     ]
    },
    {
     "name": "stdout",
     "output_type": "stream",
     "text": [
      "5\n",
      "4\n",
      "3\n",
      "2\n",
      "1\n",
      "0\n"
     ]
    }
   ],
   "source": [
    "def countdwon(start):\n",
    "    for i in range(0,5):\n",
    "        print(i)\n",
    "start = int(input(\"Enter a starting number for the countdown: \"))        \n",
    "countdown(start)        "
   ]
  },
  {
   "cell_type": "code",
   "execution_count": 1,
   "id": "10fa9036-c0e3-4c9a-af10-10356d5403cf",
   "metadata": {},
   "outputs": [
    {
     "name": "stdin",
     "output_type": "stream",
     "text": [
      "Please enter the temperature in Celsius:  33\n"
     ]
    },
    {
     "name": "stdout",
     "output_type": "stream",
     "text": [
      "33.0 Celsius is equivalent to 91.4 Fahrenheit.\n"
     ]
    }
   ],
   "source": [
    "def temprature_in_celcuis():\n",
    "    celsius = float(input(\"Please enter the temperature in Celsius: \"))\n",
    "    fahrenheit = (celsius * 9/5) + 32\n",
    "    print(f\"{celsius} Celsius is equivalent to {fahrenheit} Fahrenheit.\")\n",
    "temprature_in_celcuis()\n",
    "    "
   ]
  },
  {
   "cell_type": "code",
   "execution_count": 14,
   "id": "bfd810dd-9962-4bc5-a621-3fb6baf50d38",
   "metadata": {},
   "outputs": [
    {
     "name": "stdin",
     "output_type": "stream",
     "text": [
      "Enter a number:  6\n"
     ]
    },
    {
     "name": "stdout",
     "output_type": "stream",
     "text": [
      "sum natural no 6 : 21\n"
     ]
    }
   ],
   "source": [
    "def sum_natural_no(n):\n",
    "    total = 0\n",
    "    for i in range(1, n+1):\n",
    "        total += i\n",
    "    return total\n",
    "n = int(input(\"Enter a number: \"))\n",
    "print(f\"sum natural no{n}:{sum_natural_no(n)}\")"
   ]
  },
  {
   "cell_type": "code",
   "execution_count": 15,
   "id": "13e180d5-2a24-4572-b7ff-6f31c550710a",
   "metadata": {},
   "outputs": [
    {
     "name": "stdin",
     "output_type": "stream",
     "text": [
      "enter start 1\n",
      "enter end 10\n"
     ]
    },
    {
     "name": "stdout",
     "output_type": "stream",
     "text": [
      "2\n",
      "3\n",
      "5\n",
      "7\n"
     ]
    }
   ],
   "source": [
    "def prime_no(end):\n",
    "    for i in range(start,end+1):\n",
    "        if i>1:\n",
    "            is_prime=True\n",
    "            for n in range(2,i):\n",
    "                if i%n==0:\n",
    "                    is_prime=False\n",
    "                    break\n",
    "            if is_prime:\n",
    "                print(i)\n",
    "start=int(input(\"enter start\"))\n",
    "end=int(input(\"enter end\"))\n",
    "prime_no(end)"
   ]
  },
  {
   "cell_type": "code",
   "execution_count": 53,
   "id": "8b41aa6e-c1a0-4f51-9001-7d1b2006deb5",
   "metadata": {},
   "outputs": [
    {
     "name": "stdin",
     "output_type": "stream",
     "text": [
      "Enter first number:  2\n",
      "Enter second number:  3\n",
      "Enter third number:  4\n"
     ]
    },
    {
     "name": "stdout",
     "output_type": "stream",
     "text": [
      "The smallest number is 2\n"
     ]
    }
   ],
   "source": [
    "a = int(input(\"Enter first number: \"))\n",
    "b = int(input(\"Enter second number: \"))\n",
    "c = int(input(\"Enter third number: \"))\n",
    "def smallest_no(a, b, c):\n",
    "    if a < b and a < c:\n",
    "     print(\"The smallest number is\", a)\n",
    "    elif b < a and b < c:\n",
    "     print(\"The smallest number is\", b)\n",
    "    else:\n",
    "     print(\"The smallest number is\", c)\n",
    "smallest_no(a,b,c)"
   ]
  },
  {
   "cell_type": "code",
   "execution_count": 20,
   "id": "9aad906d-3e76-454f-8fc8-343e5a460eab",
   "metadata": {},
   "outputs": [
    {
     "name": "stdin",
     "output_type": "stream",
     "text": [
      "Enter a string to count the vowels:  python\n"
     ]
    },
    {
     "name": "stdout",
     "output_type": "stream",
     "text": [
      "no of 1\n"
     ]
    }
   ],
   "source": [
    "def vowel_count():\n",
    "    string = input(\"Enter a string to count the vowels: \")\n",
    "    count=0\n",
    "    for character in string.lower():\n",
    "        if character in \"aeiou\":\n",
    "            count+=1\n",
    "    print(\"no of\",count)\n",
    "vowel_count()    \n",
    "    "
   ]
  },
  {
   "cell_type": "code",
   "execution_count": 24,
   "id": "968da20b-3356-463c-bc44-ca2b06595e8b",
   "metadata": {},
   "outputs": [
    {
     "name": "stdin",
     "output_type": "stream",
     "text": [
      "Enter the distance in kilometers:  10\n"
     ]
    },
    {
     "name": "stdout",
     "output_type": "stream",
     "text": [
      "10.0 kilometers is equal to 6.21371 miles.\n"
     ]
    }
   ],
   "source": [
    "def kilometers_miles():\n",
    " kilometers = float(input(\"Enter the distance in kilometers: \"))\n",
    "\n",
    " conversion = 0.621371\n",
    "\n",
    " miles = kilometers * conversion\n",
    "\n",
    " print(f\"{kilometers} kilometers is equal to {miles} miles.\")\n",
    "kilometers_miles()"
   ]
  },
  {
   "cell_type": "code",
   "execution_count": 28,
   "id": "53cd630f-4bc5-4e47-abe8-1a28982df51c",
   "metadata": {},
   "outputs": [
    {
     "name": "stdin",
     "output_type": "stream",
     "text": [
      "Please enter a number to find the sum of its digits:  92\n"
     ]
    },
    {
     "data": {
      "text/plain": [
       "11"
      ]
     },
     "execution_count": 28,
     "metadata": {},
     "output_type": "execute_result"
    }
   ],
   "source": [
    "num = input(\"Please enter a number to find the sum of its digits: \")\n",
    "def sum_digit(num):\n",
    "    total=0\n",
    "    for digit in num:\n",
    "        total+=int(digit)\n",
    "    return total\n",
    "sum_digit(num)"
   ]
  },
  {
   "cell_type": "code",
   "execution_count": 35,
   "id": "a5a78b3e-b022-41ce-9a43-fe09b1c28be8",
   "metadata": {},
   "outputs": [
    {
     "name": "stdin",
     "output_type": "stream",
     "text": [
      "Enter test score:  80\n",
      "Enter assignment score:  90\n",
      "Enter project score:  70\n",
      "Enter attendance score:  77\n"
     ]
    },
    {
     "name": "stdout",
     "output_type": "stream",
     "text": [
      "Final weighted score is: 77.70\n"
     ]
    }
   ],
   "source": [
    "def attendance():\n",
    " test_score = float(input(\"Enter test score: \"))\n",
    " assignment_score = float(input(\"Enter assignment score: \"))\n",
    " project_score = float(input(\"Enter project score: \"))\n",
    " attendance = float(input(\"Enter attendance score: \"))\n",
    " final_score = (test_score * 0.3) + (assignment_score * 0.2) + (project_score * 0.4) + (attendance * 0.1)\n",
    " if attendance < 75:                                         \n",
    "    final_score *= 0.85\n",
    " print(f\"Final weighted score is: {final_score:.2f}\")\n",
    "attendance()"
   ]
  },
  {
   "cell_type": "code",
   "execution_count": 17,
   "id": "75163d5d-b9b8-4173-b670-04d50ff27355",
   "metadata": {},
   "outputs": [
    {
     "name": "stdin",
     "output_type": "stream",
     "text": [
      "Enter number of rows:  7\n"
     ]
    },
    {
     "name": "stdout",
     "output_type": "stream",
     "text": [
      "* * * * * * * \n",
      "* * * * * * \n",
      "* * * * * \n",
      "* * * * \n",
      "* * * \n",
      "* * \n",
      "* \n"
     ]
    }
   ],
   "source": [
    "rows = int(input(\"Enter number of rows: \"))\n",
    "def print_triangle():\n",
    "    for i in range(rows, 0, -1): \n",
    "        for j in range(0, i):\n",
    "            print(\"* \", end=\"\")\n",
    "        print()\n",
    "print_triangle()  \n"
   ]
  },
  {
   "cell_type": "code",
   "execution_count": 25,
   "id": "3ca13f0d-a64b-4c23-bc78-e01450ac95c7",
   "metadata": {},
   "outputs": [
    {
     "name": "stdin",
     "output_type": "stream",
     "text": [
      "Enter number of rows:  10\n"
     ]
    },
    {
     "name": "stdout",
     "output_type": "stream",
     "text": [
      "* \n",
      "* * \n",
      "* * * \n",
      "* * * * \n",
      "* * * * * \n",
      "* * * * * * \n",
      "* * * * * * * \n",
      "* * * * * * * * \n",
      "* * * * * * * * * \n",
      "* * * * * * * * * * \n"
     ]
    }
   ],
   "source": [
    "rows = int(input(\"Enter number of rows: \"))\n",
    "def right_triangle(rows):\n",
    "    for i in range(rows):\n",
    "        for j in range(i + 1):\n",
    "            print(\"* \", end=\"\")\n",
    "        print()\n",
    "right_triangle(rows) "
   ]
  },
  {
   "cell_type": "code",
   "execution_count": 28,
   "id": "020ef429-766e-4722-8d8c-903151f72660",
   "metadata": {},
   "outputs": [
    {
     "name": "stdin",
     "output_type": "stream",
     "text": [
      "Enter number of rows:  6\n"
     ]
    },
    {
     "name": "stdout",
     "output_type": "stream",
     "text": [
      "1 \n",
      "1 2 \n",
      "1 2 3 \n",
      "1 2 3 4 \n",
      "1 2 3 4 5 \n",
      "1 2 3 4 5 6 \n"
     ]
    }
   ],
   "source": [
    "def half_no():\n",
    " for i in range(rows):\n",
    "    for j in range(i + 1):\n",
    "        print(j + 1, end=\" \")\n",
    "    print()\n",
    "rows = int(input(\"Enter number of rows: \"))\n",
    "half_no()"
   ]
  },
  {
   "cell_type": "code",
   "execution_count": 37,
   "id": "57200682-2285-4842-9d8e-914f0726f9be",
   "metadata": {},
   "outputs": [
    {
     "name": "stdin",
     "output_type": "stream",
     "text": [
      "Enter number of rows:  9\n"
     ]
    },
    {
     "name": "stdout",
     "output_type": "stream",
     "text": [
      "A \n",
      "B B \n",
      "C C C \n",
      "D D D D \n",
      "E E E E E \n",
      "F F F F F F \n",
      "G G G G G G G \n",
      "H H H H H H H H \n",
      "I I I I I I I I I \n"
     ]
    }
   ],
   "source": [
    "rows = int(input(\"Enter number of rows: \"))\n",
    "def acii():\n",
    " ascii_value = 65  \n",
    " for i in range(rows):\n",
    "    for j in range(i + 1):\n",
    "        alphabet = chr(ascii_value)\n",
    "        print(alphabet, end=\" \")\n",
    "    print()\n",
    "    ascii_value += 1  \n",
    "   \n",
    "acii()"
   ]
  },
  {
   "cell_type": "code",
   "execution_count": 71,
   "id": "5c7415a2-da3d-458c-8eb5-5534a37b2c50",
   "metadata": {
    "scrolled": true
   },
   "outputs": [
    {
     "name": "stdin",
     "output_type": "stream",
     "text": [
      "enter number of rows: 6\n"
     ]
    },
    {
     "name": "stdout",
     "output_type": "stream",
     "text": [
      "     1\n",
      "    232\n",
      "   34543\n",
      "  4567654\n",
      " 567898765\n",
      "67891011109876\n"
     ]
    }
   ],
   "source": [
    "rows=int(input(\"enter number of rows:\"))\n",
    "def full_pyramid(rows):\n",
    "    num = 1\n",
    "    for i in range(1, rows + 1):\n",
    "        print(' ' * (rows - i), end='')\n",
    "        k = i\n",
    "        count = 0\n",
    "        count1 = 0\n",
    "        while count < (2 * i - 1):\n",
    "            print(k, end='')\n",
    "            count += 1\n",
    "            if count <= i - 1:\n",
    "                k += 1\n",
    "            else:\n",
    "                k -= 1\n",
    "        print()\n",
    "full_pyramid(rows)\n"
   ]
  },
  {
   "cell_type": "code",
   "execution_count": 46,
   "id": "43bd33f9-72f6-484d-a59e-7b11c33b0730",
   "metadata": {},
   "outputs": [
    {
     "name": "stdin",
     "output_type": "stream",
     "text": [
      "Enter the number of rows:  5\n"
     ]
    },
    {
     "name": "stdout",
     "output_type": "stream",
     "text": [
      "    1 \n",
      "   1 2 \n",
      "  1 3 3 \n",
      " 1 4 6 4 \n",
      "1 5 10 10 5 \n"
     ]
    }
   ],
   "source": [
    "rows = int(input(\"Enter the number of rows: \"))\n",
    "def pascals_triangle(rows):\n",
    "    for i in range(1, rows + 1):\n",
    "        print(\" \" * (rows - i), end=\"\")\n",
    "        coef = 1\n",
    "        for j in range(i):\n",
    "            print(coef, end=\" \")\n",
    "            coef = coef * (i - j) // (j + 1)\n",
    "        print()\n",
    "pascals_triangle(rows)\n"
   ]
  },
  {
   "cell_type": "code",
   "execution_count": 58,
   "id": "4cc8da7e-b68b-4a36-9909-bf8418562908",
   "metadata": {},
   "outputs": [
    {
     "name": "stdin",
     "output_type": "stream",
     "text": [
      "Enter the number of rows:  5\n"
     ]
    },
    {
     "name": "stdout",
     "output_type": "stream",
     "text": [
      "* * * * * * * * * \n",
      "  * * * * * * * \n",
      "    * * * * * \n",
      "      * * * \n",
      "        * \n"
     ]
    }
   ],
   "source": [
    "rows = int(input(\"Enter the number of rows: \"))\n",
    "def inverse_pyramid():\n",
    "    for i in range(rows, 0, -1):\n",
    "        print(\"  \" * (rows - i), end=\"\")\n",
    "        print(\"* \" * (2 * i - 1))\n",
    "inverse_pyramid()\n"
   ]
  },
  {
   "cell_type": "code",
   "execution_count": 81,
   "id": "52f426f2-0c7c-4c68-bd27-12cbee2ba1b1",
   "metadata": {},
   "outputs": [
    {
     "name": "stdin",
     "output_type": "stream",
     "text": [
      "enter decimal no 4\n"
     ]
    },
    {
     "name": "stdout",
     "output_type": "stream",
     "text": [
      "binary 100\n"
     ]
    }
   ],
   "source": [
    "def binary_conversion(decimal):\n",
    "    if decimal==0:\n",
    "        return \"0\"\n",
    "    binary=\"\"\n",
    "    while decimal>0:\n",
    "        binary=str(decimal%2)+binary\n",
    "        decimal=decimal//2\n",
    "    return binary\n",
    "num=int(input(\"enter decimal no\"))\n",
    "print(\"binary\",binary_conversion(num))\n"
   ]
  },
  {
   "cell_type": "code",
   "execution_count": 62,
   "id": "59382813-d5ec-4f89-8aaa-83eafa067ea4",
   "metadata": {},
   "outputs": [
    {
     "name": "stdin",
     "output_type": "stream",
     "text": [
      "Enter current savings:  2000\n",
      "Enter monthly deposit:  500\n"
     ]
    },
    {
     "name": "stdout",
     "output_type": "stream",
     "text": [
      "Savings with interest: 2512.4999999999995\n"
     ]
    }
   ],
   "source": [
    "def savings():\n",
    " savings = float(input(\"Enter current savings: \"))\n",
    " monthlydeposit = float(input(\"Enter monthly deposit: \"))\n",
    " savings += monthlydeposit\n",
    " savings *= 1.005\n",
    " print(f\"Savings with interest: {savings}\")\n",
    "savings()"
   ]
  },
  {
   "cell_type": "code",
   "execution_count": 69,
   "id": "cf05c370-20fc-4f68-a106-d1c120fba312",
   "metadata": {},
   "outputs": [
    {
     "name": "stdin",
     "output_type": "stream",
     "text": [
      "Enter initial investment amount:  200000\n",
      "Enter duration in years:  5\n",
      "Enter annual interest rate (in %):  5\n",
      "Enter year of withdrawal:  3\n",
      "Enter withdrawal amount:  15000\n"
     ]
    },
    {
     "name": "stdout",
     "output_type": "stream",
     "text": [
      "Final balance: 238718.81\n"
     ]
    }
   ],
   "source": [
    "def calculate_interest():\n",
    "    initial_amount = float(input(\"Enter initial investment amount: \"))\n",
    "    years = int(input(\"Enter duration in years: \"))\n",
    "    annual_interest = float(input(\"Enter annual interest rate (in %): \")) / 100\n",
    "    withdrawal_year = int(input(\"Enter year of withdrawal: \"))\n",
    "    withdrawal_amount = float(input(\"Enter withdrawal amount: \"))\n",
    "\n",
    "    balance = initial_amount\n",
    "    for year in range(1, years + 1):\n",
    "        balance += balance * annual_interest\n",
    "        if year == withdrawal_year:\n",
    "            balance -= withdrawal_amount\n",
    "\n",
    "    print(f\"Final balance: {balance:.2f}\")\n",
    "calculate_interest()"
   ]
  },
  {
   "cell_type": "code",
   "execution_count": 100,
   "id": "5916516f-3e59-49e2-bcaf-9b01f79f9829",
   "metadata": {},
   "outputs": [
    {
     "name": "stdout",
     "output_type": "stream",
     "text": [
      "number divisible by 6 are 12 18\n"
     ]
    }
   ],
   "source": [
    "def divisible_no():\n",
    " divisor=6\n",
    " divisible=[]\n",
    " for n in number:\n",
    "    if n%divisor==0:\n",
    "        divisible+=[n]\n",
    " if divisible:\n",
    "    print(\"number divisible by\",divisor,\"are\",*divisible)\n",
    " else:\n",
    "     print(\"no number are divisible by\",divisor)\n",
    "number=[12,18,19,22]     \n",
    "divisible_no()    "
   ]
  },
  {
   "cell_type": "code",
   "execution_count": null,
   "id": "e2117d59-8791-4f30-b4d3-51e3ac30e046",
   "metadata": {},
   "outputs": [],
   "source": []
  }
 ],
 "metadata": {
  "kernelspec": {
   "display_name": "Python [conda env:base] *",
   "language": "python",
   "name": "conda-base-py"
  },
  "language_info": {
   "codemirror_mode": {
    "name": "ipython",
    "version": 3
   },
   "file_extension": ".py",
   "mimetype": "text/x-python",
   "name": "python",
   "nbconvert_exporter": "python",
   "pygments_lexer": "ipython3",
   "version": "3.13.5"
  }
 },
 "nbformat": 4,
 "nbformat_minor": 5
}
