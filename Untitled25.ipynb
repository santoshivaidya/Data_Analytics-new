{
 "cells": [
  {
   "cell_type": "code",
   "execution_count": 1,
   "id": "864293ee-398d-4b9d-8820-6ae8baad8a3c",
   "metadata": {},
   "outputs": [
    {
     "data": {
      "text/plain": [
       "True"
      ]
     },
     "execution_count": 1,
     "metadata": {},
     "output_type": "execute_result"
    }
   ],
   "source": [
    "def vector_perpendicular(a1,b1,c1,a2,b2,c2):\n",
    "    dot=a1*a2+b1*b2+c1*c2\n",
    "    return dot==0\n",
    "vector_perpendicular(1,0,0,0,1,0)    "
   ]
  },
  {
   "cell_type": "code",
   "execution_count": 9,
   "id": "cf3b02c6-3eaa-4b23-95fd-3f0932954f2a",
   "metadata": {},
   "outputs": [
    {
     "data": {
      "text/plain": [
       "60"
      ]
     },
     "execution_count": 9,
     "metadata": {},
     "output_type": "execute_result"
    }
   ],
   "source": [
    "def lcm(a,b,i=1):\n",
    "    if i%a==0 and i%b==0:\n",
    "        return i \n",
    "    else:\n",
    "        return lcm(a,b,i+1)\n",
    "lcm(15,20)    "
   ]
  },
  {
   "cell_type": "code",
   "execution_count": 11,
   "id": "86f45926-f42d-49c6-ae1b-c170ef5650c3",
   "metadata": {},
   "outputs": [
    {
     "data": {
      "text/plain": [
       "6"
      ]
     },
     "execution_count": 11,
     "metadata": {},
     "output_type": "execute_result"
    }
   ],
   "source": [
    "def gcd(a,b):\n",
    "    if b==0:\n",
    "        return a\n",
    "    else:\n",
    "       return gcd(b,a%b)\n",
    "gcd(48,18)        \n"
   ]
  },
  {
   "cell_type": "code",
   "execution_count": 21,
   "id": "4e9a9dd9-21fe-4ac5-8584-21fe22038033",
   "metadata": {},
   "outputs": [
    {
     "data": {
      "text/plain": [
       "6"
      ]
     },
     "execution_count": 21,
     "metadata": {},
     "output_type": "execute_result"
    }
   ],
   "source": [
    "def product_digit(n):\n",
    "    if n==0:\n",
    "        return 1\n",
    "    else:    \n",
    "        return n%10*product_digit(n//10)\n",
    "product_digit(123)    "
   ]
  },
  {
   "cell_type": "code",
   "execution_count": 30,
   "id": "8ead2564-c7b9-4535-8d25-cc9a9ef19cd9",
   "metadata": {},
   "outputs": [
    {
     "data": {
      "text/plain": [
       "321"
      ]
     },
     "execution_count": 30,
     "metadata": {},
     "output_type": "execute_result"
    }
   ],
   "source": [
    "def reverse(n,rev=0):\n",
    "    if n==0:\n",
    "        return rev\n",
    "    else:\n",
    "        return reverse(n//10,rev*10+n%10)\n",
    "reverse(123)        "
   ]
  },
  {
   "cell_type": "code",
   "execution_count": 31,
   "id": "25c1eec7-2d8a-4532-b47c-32e095209d29",
   "metadata": {},
   "outputs": [
    {
     "data": {
      "text/plain": [
       "2"
      ]
     },
     "execution_count": 31,
     "metadata": {},
     "output_type": "execute_result"
    }
   ],
   "source": [
    "def count_even(n):\n",
    "    if n==0:\n",
    "        return 0\n",
    "    else:    \n",
    "         return (n%10%2==0)+count_even(n//10)\n",
    "count_even(1234)    "
   ]
  },
  {
   "cell_type": "code",
   "execution_count": 52,
   "id": "7d895cfb-619e-487b-80b0-199fb19452c8",
   "metadata": {},
   "outputs": [
    {
     "data": {
      "text/plain": [
       "3"
      ]
     },
     "execution_count": 52,
     "metadata": {},
     "output_type": "execute_result"
    }
   ],
   "source": [
    "def count_zero(n):\n",
    "    if n<10:\n",
    "        return 1 \n",
    "    if n==0:\n",
    "        return 0\n",
    "    else: 0\n",
    "    return (n%10==0) + count_zero(n//10)\n",
    "count_zero(1004)    "
   ]
  },
  {
   "cell_type": "code",
   "execution_count": 58,
   "id": "21b1f97d-25b7-4fda-9088-765b42f389be",
   "metadata": {},
   "outputs": [
    {
     "data": {
      "text/plain": [
       "3"
      ]
     },
     "execution_count": 58,
     "metadata": {},
     "output_type": "execute_result"
    }
   ],
   "source": [
    "def count_digits_greater_than_five(n):\n",
    "    if n==0:\n",
    "        return 0\n",
    "    return (n%10>5)+count_digits_greater_than_five(n//10)\n",
    "count_digits_greater_than_five(13789)    "
   ]
  },
  {
   "cell_type": "code",
   "execution_count": 88,
   "id": "043bf29c-48e0-4d86-8b60-1e98480af4c3",
   "metadata": {},
   "outputs": [
    {
     "data": {
      "text/plain": [
       "35"
      ]
     },
     "execution_count": 88,
     "metadata": {},
     "output_type": "execute_result"
    }
   ],
   "source": [
    "def sum_square_alternate_digit(n,position=1):\n",
    "    if n==0:\n",
    "        return 0\n",
    "    return (n%10)**2*(position %2==0)  + sum_square_alternate_digit(n//10,position+1)\n",
    "sum_square_alternate_digit(123456)   "
   ]
  },
  {
   "cell_type": "code",
   "execution_count": 63,
   "id": "5e4a427c-e80b-499d-8266-8fed3ff987c5",
   "metadata": {},
   "outputs": [
    {
     "data": {
      "text/plain": [
       "15"
      ]
     },
     "execution_count": 63,
     "metadata": {},
     "output_type": "execute_result"
    }
   ],
   "source": [
    "def sum(n):\n",
    "    if n==1:\n",
    "        return 1\n",
    "    else:\n",
    "        return n+ sum (n-1)\n",
    "sum(5)        "
   ]
  },
  {
   "cell_type": "code",
   "execution_count": 64,
   "id": "e00bee88-0f33-4ff7-a64e-2c73458da5c0",
   "metadata": {},
   "outputs": [
    {
     "data": {
      "text/plain": [
       "8"
      ]
     },
     "execution_count": 64,
     "metadata": {},
     "output_type": "execute_result"
    }
   ],
   "source": [
    "def cal(a,b):\n",
    "    if b==0:\n",
    "        return 1\n",
    "    elif b==1:\n",
    "        return a\n",
    "    else:\n",
    "        return a*cal(a,b-1)\n",
    "cal(2,3)        "
   ]
  },
  {
   "cell_type": "code",
   "execution_count": 65,
   "id": "badd9858-9f74-4dec-b807-e8a21fbf91f8",
   "metadata": {},
   "outputs": [
    {
     "name": "stdout",
     "output_type": "stream",
     "text": [
      "2\n",
      "4\n",
      "6\n"
     ]
    }
   ],
   "source": [
    "def divisible(divisior,*args):\n",
    "    for num in args:\n",
    "        if num%divisior==0:\n",
    "            print (num)\n",
    "       \n",
    "divisible(2,1,2,3,4,5,6)            "
   ]
  },
  {
   "cell_type": "code",
   "execution_count": 72,
   "id": "221fb50c-b6e5-438b-9715-5dc4e049da43",
   "metadata": {},
   "outputs": [
    {
     "data": {
      "text/plain": [
       "True"
      ]
     },
     "execution_count": 72,
     "metadata": {},
     "output_type": "execute_result"
    }
   ],
   "source": [
    "def prime(num):\n",
    "    if num<2:\n",
    "        return False\n",
    "    for i in range(2,num):\n",
    "        if num % i==0:\n",
    "            return False\n",
    "    return True\n",
    "prime(5)    "
   ]
  },
  {
   "cell_type": "code",
   "execution_count": null,
   "id": "bc2bc5b1-3f4e-489f-8d47-a5eb684f2a92",
   "metadata": {},
   "outputs": [],
   "source": []
  },
  {
   "cell_type": "code",
   "execution_count": null,
   "id": "6074173f-1164-4f45-8cee-0baf3d4815ca",
   "metadata": {},
   "outputs": [],
   "source": []
  }
 ],
 "metadata": {
  "kernelspec": {
   "display_name": "Python [conda env:base] *",
   "language": "python",
   "name": "conda-base-py"
  },
  "language_info": {
   "codemirror_mode": {
    "name": "ipython",
    "version": 3
   },
   "file_extension": ".py",
   "mimetype": "text/x-python",
   "name": "python",
   "nbconvert_exporter": "python",
   "pygments_lexer": "ipython3",
   "version": "3.13.5"
  }
 },
 "nbformat": 4,
 "nbformat_minor": 5
}
