{
 "cells": [
  {
   "cell_type": "code",
   "execution_count": null,
   "id": "4ef5685b-254f-4d6c-8c68-0e28d7860180",
   "metadata": {},
   "outputs": [],
   "source": [
    "1.Write a python program to Find the maximum number in a list"
   ]
  },
  {
   "cell_type": "code",
   "execution_count": 13,
   "id": "3d41c880-c7dd-4dd9-b7f5-d074a7d51655",
   "metadata": {},
   "outputs": [
    {
     "name": "stdout",
     "output_type": "stream",
     "text": [
      "maximum number 50\n"
     ]
    }
   ],
   "source": [
    "number=[10,20,30,40,50]\n",
    "maximum=number[0]\n",
    "for i in number:\n",
    "    if i>maximum:\n",
    "        maximum=i\n",
    "print(\"maximum number\",maximum)"
   ]
  },
  {
   "cell_type": "code",
   "execution_count": null,
   "id": "bed212a5-63ae-4336-a2f2-67b03684d466",
   "metadata": {},
   "outputs": [],
   "source": [
    "2.Write a python program to Count how many strings contain the letter ‘a' in a list of strings"
   ]
  },
  {
   "cell_type": "code",
   "execution_count": 36,
   "id": "83be397b-0cd8-4652-b41f-829a9a61f866",
   "metadata": {},
   "outputs": [
    {
     "name": "stdout",
     "output_type": "stream",
     "text": [
      "count of string 'a' 2\n"
     ]
    }
   ],
   "source": [
    "string=[\"apple\",\"cherry\",\"mango\"]\n",
    "count=0\n",
    "for i in string:\n",
    "    if 'a' in i:\n",
    "        count+=1\n",
    "print(\"count of string 'a'\",count)        "
   ]
  },
  {
   "cell_type": "code",
   "execution_count": null,
   "id": "ff131dd7-57ad-4eb0-9c6c-389105314b0c",
   "metadata": {},
   "outputs": [],
   "source": [
    "5.Write a python program to Count vowels in each string of a list"
   ]
  },
  {
   "cell_type": "code",
   "execution_count": 52,
   "id": "c521c4e0-dc92-405e-9063-0fbdea6830a4",
   "metadata": {},
   "outputs": [
    {
     "name": "stdout",
     "output_type": "stream",
     "text": [
      "vowel in 'cherry'1\n"
     ]
    }
   ],
   "source": [
    "string=[\"apple\",\"banana\",\"cherry\"]\n",
    "vowel=\"aeiouAEIOU\"\n",
    "for i in string:\n",
    "    count=0\n",
    "    for char in i:\n",
    "        if char in vowel:\n",
    "          count+=1\n",
    "print(f\"vowel in '{i}'{count}\")        "
   ]
  },
  {
   "cell_type": "code",
   "execution_count": null,
   "id": "141445b1-2c1d-4cef-a3b8-3fd8c3375ccf",
   "metadata": {},
   "outputs": [],
   "source": [
    "6.Write a python program to Find the smallest number in a list"
   ]
  },
  {
   "cell_type": "code",
   "execution_count": 53,
   "id": "a8712af5-a94a-448e-a4b9-dd6677c13104",
   "metadata": {},
   "outputs": [
    {
     "name": "stdout",
     "output_type": "stream",
     "text": [
      "smallest number 10\n"
     ]
    }
   ],
   "source": [
    "number=[10,20,30,40,50]\n",
    "smallest=number[0]\n",
    "for i in number:\n",
    "    if i<smallest:\n",
    "        maximum=i\n",
    "print(\"smallest number\",smallest)"
   ]
  },
  {
   "cell_type": "code",
   "execution_count": null,
   "id": "3bbee6b0-3e3f-4c28-bf1e-217881d4353e",
   "metadata": {},
   "outputs": [],
   "source": [
    "7.Write a python program to Find the average of even numbers only from a list"
   ]
  },
  {
   "cell_type": "code",
   "execution_count": 54,
   "id": "9ecbac8d-e419-4484-bbd8-03d978eb9f76",
   "metadata": {},
   "outputs": [
    {
     "name": "stdout",
     "output_type": "stream",
     "text": [
      "avarage even no 3.0\n"
     ]
    }
   ],
   "source": [
    "number=[1,2,3,4,5]\n",
    "sum=0\n",
    "count=0\n",
    "for i in number:\n",
    "    if i%2==0:\n",
    "        sum+=i\n",
    "        count+=1\n",
    "avarage=sum/count\n",
    "print(\"avarage even no\",avarage)"
   ]
  },
  {
   "cell_type": "code",
   "execution_count": null,
   "id": "39abe5ce-bb64-47fe-bd97-20e38c756f8b",
   "metadata": {},
   "outputs": [],
   "source": [
    "8.Write a python program to Find the product of even numbers and reduction of odd numbers in a list"
   ]
  },
  {
   "cell_type": "code",
   "execution_count": 56,
   "id": "3cab9881-d1a4-468d-9e1e-35eaa58bbdca",
   "metadata": {},
   "outputs": [
    {
     "name": "stdout",
     "output_type": "stream",
     "text": [
      "sum even no 8\n",
      "sum of odd no 9\n"
     ]
    }
   ],
   "source": [
    "number=[1,2,3,4,5]\n",
    "product=1\n",
    "sum=0\n",
    "for i in number:\n",
    "    if i%2==0:\n",
    "        product*=i\n",
    "    else:\n",
    "        sum+=i\n",
    "print(\"sum even no\",product)\n",
    "print(\"sum of odd no\",sum)"
   ]
  },
  {
   "cell_type": "code",
   "execution_count": null,
   "id": "2bee0014-086c-4fa6-96c6-e1a1158b94a1",
   "metadata": {},
   "outputs": [],
   "source": [
    "9.Write a python program to Merge two lists without duplicates"
   ]
  },
  {
   "cell_type": "code",
   "execution_count": 15,
   "id": "6ac813ee-8783-4728-991e-e22e114a318c",
   "metadata": {},
   "outputs": [
    {
     "name": "stdout",
     "output_type": "stream",
     "text": [
      "[1, 2, 3, 4, 5, 6, 7, 8]\n"
     ]
    }
   ],
   "source": [
    "l1=[1,2,3,4]\n",
    "l2=[5,6,7,8]\n",
    "merge=l1+l2\n",
    "print(merge)"
   ]
  },
  {
   "cell_type": "code",
   "execution_count": null,
   "id": "487dabcc-c0a1-4cb5-aeda-ec7c4d2232b0",
   "metadata": {},
   "outputs": [],
   "source": [
    "10.Write a python program to Find the difference between the largest and smallest number in a list"
   ]
  },
  {
   "cell_type": "code",
   "execution_count": 9,
   "id": "5d9ba168-9702-4afc-a905-8ee784a27c33",
   "metadata": {},
   "outputs": [
    {
     "name": "stdout",
     "output_type": "stream",
     "text": [
      "diffrance between largest and smallest 4\n"
     ]
    }
   ],
   "source": [
    "number=[1,2,3,4,5]\n",
    "for i in number:\n",
    "    if i<smallest:\n",
    "        smallest=i\n",
    "    elif i>largest:\n",
    "        largest=i\n",
    "print(\"diffrance between largest and smallest\",largest-smallest)\n",
    "        "
   ]
  },
  {
   "cell_type": "code",
   "execution_count": null,
   "id": "a7561816-189c-4eab-8591-e7e8df86790f",
   "metadata": {},
   "outputs": [],
   "source": []
  }
 ],
 "metadata": {
  "kernelspec": {
   "display_name": "Python [conda env:base] *",
   "language": "python",
   "name": "conda-base-py"
  },
  "language_info": {
   "codemirror_mode": {
    "name": "ipython",
    "version": 3
   },
   "file_extension": ".py",
   "mimetype": "text/x-python",
   "name": "python",
   "nbconvert_exporter": "python",
   "pygments_lexer": "ipython3",
   "version": "3.13.5"
  }
 },
 "nbformat": 4,
 "nbformat_minor": 5
}
