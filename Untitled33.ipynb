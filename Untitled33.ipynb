{
 "cells": [
  {
   "cell_type": "code",
   "execution_count": 2,
   "id": "a956720f-ac31-4fa1-9ab2-317d77c08940",
   "metadata": {},
   "outputs": [
    {
     "name": "stdout",
     "output_type": "stream",
     "text": [
      "even numbers [2, 6]\n"
     ]
    }
   ],
   "source": [
    "l=[2,3,1,7,6,5]\n",
    "even_no=list(filter(lambda x:x%2==0,l))\n",
    "print(\"even numbers\",even_no)"
   ]
  },
  {
   "cell_type": "code",
   "execution_count": 3,
   "id": "c9858df4-2b2b-4522-a860-a57a6703c084",
   "metadata": {},
   "outputs": [
    {
     "name": "stdout",
     "output_type": "stream",
     "text": [
      "divisible by 7 [True, True, True, True, True, False, False]\n"
     ]
    }
   ],
   "source": [
    "number=[7,14,21,28,35,2,3,]\n",
    "divisible7=list(map(lambda x:x%7==0,number))\n",
    "print(\"divisible by 7\",divisible7)"
   ]
  },
  {
   "cell_type": "code",
   "execution_count": 22,
   "id": "2b6f21be-39e5-47a4-a866-315012c16af6",
   "metadata": {},
   "outputs": [
    {
     "name": "stdout",
     "output_type": "stream",
     "text": [
      "[1, 21]\n"
     ]
    }
   ],
   "source": [
    "number=[1,2,8,21,7]\n",
    "result=list(filter(lambda x:(x*x)%10==1,number))\n",
    "print(result)"
   ]
  },
  {
   "cell_type": "code",
   "execution_count": 5,
   "id": "a506e1c6-e3bd-4e9f-aff8-7ab7b017c669",
   "metadata": {},
   "outputs": [
    {
     "name": "stdout",
     "output_type": "stream",
     "text": [
      "[123, 456, 789]\n"
     ]
    }
   ],
   "source": [
    "number=[123,456,789]\n",
    "def product_even(n):\n",
    "    prod=1\n",
    "    for digit in str(n):\n",
    "        prod*=int(digit)\n",
    "    return prod%2==0\n",
    "product_even_number=list(filter(product_even,number))\n",
    "print(product_even_number)"
   ]
  },
  {
   "cell_type": "code",
   "execution_count": 12,
   "id": "269239ed-d3e8-42c9-934c-a61b1c7b5a4d",
   "metadata": {},
   "outputs": [
    {
     "name": "stdout",
     "output_type": "stream",
     "text": [
      "sum of minimum and maximum 100\n"
     ]
    }
   ],
   "source": [
    "from functools import reduce\n",
    "number=[20,70,45,99,1]\n",
    "sum_min_max=reduce(lambda x,y:x+y,[min(number),max(number)])\n",
    "print(\"sum of minimum and maximum\",sum_min_max)"
   ]
  },
  {
   "cell_type": "code",
   "execution_count": null,
   "id": "be1125bc-f426-41e0-ba52-faab14c7003c",
   "metadata": {},
   "outputs": [],
   "source": []
  }
 ],
 "metadata": {
  "kernelspec": {
   "display_name": "Python [conda env:base] *",
   "language": "python",
   "name": "conda-base-py"
  },
  "language_info": {
   "codemirror_mode": {
    "name": "ipython",
    "version": 3
   },
   "file_extension": ".py",
   "mimetype": "text/x-python",
   "name": "python",
   "nbconvert_exporter": "python",
   "pygments_lexer": "ipython3",
   "version": "3.13.5"
  }
 },
 "nbformat": 4,
 "nbformat_minor": 5
}
